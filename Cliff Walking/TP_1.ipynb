{
 "cells": [
  {
   "cell_type": "markdown",
   "metadata": {},
   "source": [
    "# TP 1 - Reinforcement Learning (November 24rd)"
   ]
  },
  {
   "cell_type": "markdown",
   "metadata": {},
   "source": [
    "# By Diyun Lu and Gwendal Debaussart"
   ]
  },
  {
   "cell_type": "markdown",
   "metadata": {},
   "source": [
    "This assignement will be a discovery of OpenAI GYM and an implementation of Value Iteration, Policy Iteration, Q-Learning\n",
    "\n",
    "We used the Cliff Walking Environment (also from Sutton's book).\n",
    "\n",
    "    Adapted from Example 6.6 (page 132) from Reinforcement Learning: An Introduction\n",
    "    by Sutton and Barto:\n",
    "    The board is a 4x12 matrix, with (using Numpy matrix indexing):\n",
    "        [3, 0] as the start at bottom-left\n",
    "        [3, 11] as the goal at bottom-right\n",
    "        [3, 1..10] as the cliff at bottom-center\n",
    "    Each time step incurs -1 reward, and stepping into the cliff incurs -100 reward\n",
    "    and a reset to the start. An episode terminates when the agent reaches the goal.\n",
    "\n",
    "You will be noted on the implementation of the 2 algorithms (VI, PI).\n",
    "Bonus points will be given to clean, scalable code and Q-learning implementation.\n",
    "\n",
    "You need to send this notebook in a html format and ipynb format in a compressed folder to cyriaque.rousselot(at)inria(dot)fr before December, 1st.\n",
    "\n",
    "Good luck !\n"
   ]
  },
  {
   "cell_type": "markdown",
   "metadata": {},
   "source": [
    "## A gentle start with OpenAI Gym"
   ]
  },
  {
   "cell_type": "markdown",
   "metadata": {},
   "source": [
    "### Looking to the environment"
   ]
  },
  {
   "cell_type": "markdown",
   "metadata": {},
   "source": [
    "Have a look at the documentation of gym https://gym.openai.com/docs/#environments  and of the Cliff Walking Environement https://www.gymlibrary.dev/environments/toy_text/cliff_walking/to fill the lines \n"
   ]
  },
  {
   "cell_type": "markdown",
   "metadata": {},
   "source": [
    "Q1. Display the Action Space / State space of the CliffWalking environment"
   ]
  },
  {
   "cell_type": "code",
   "execution_count": 1,
   "metadata": {},
   "outputs": [
    {
     "name": "stderr",
     "output_type": "stream",
     "text": [
      "\n"
     ]
    },
    {
     "name": "stdout",
     "output_type": "stream",
     "text": [
      "==========Load the environement==========\n",
      "==========Visualize the environement==========\n",
      "o  o  o  o  o  o  o  o  o  o  o  o\n",
      "o  o  o  o  o  o  o  o  o  o  o  o\n",
      "o  o  o  o  o  o  o  o  o  o  o  o\n",
      "x  C  C  C  C  C  C  C  C  C  C  T\n",
      "\n",
      "o  o  o  o  o  o  o  o  o  o  o  o\n",
      "o  o  o  o  o  o  o  o  o  o  o  o\n",
      "o  o  o  o  o  o  o  o  o  o  o  o\n",
      "x  C  C  C  C  C  C  C  C  C  C  T\n",
      "\n",
      "None\n",
      "==========Action Space==========\n",
      "['up', 'right', 'down', 'left']\n",
      "==========State Space==========\n",
      "48\n"
     ]
    }
   ],
   "source": [
    "import gym\n",
    "import numpy as np\n",
    "from matplotlib import pyplot as plt\n",
    "import time \n",
    "\n",
    "\n",
    "print(\"=\"*10 + \"Load the environement\"+\"=\"*10)\n",
    "env = gym.make('CliffWalking-v0') # TO IMPLEMENT\n",
    "env.reset()\n",
    "print(\"=\"*10 + \"Visualize the environement\"+\"=\"*10)\n",
    "env.render()\n",
    "print(env.render())\n",
    "## Action Space\n",
    "\n",
    "nb_actions = 4\n",
    "print(\"=\"*10 + \"Action Space\"+\"=\"*10)\n",
    "action = [\"up\", \"right\", \"down\", \"left\"]\n",
    "print(action) # TO IMPLEMENT \n",
    "\n",
    "## State space\n",
    "nb_states = 48\n",
    "print(\"=\"*10 + \"State Space\"+\"=\"*10)\n",
    "print(env.nS) # TO IMPLEMENT \n",
    "\n"
   ]
  },
  {
   "cell_type": "markdown",
   "metadata": {},
   "source": [
    "### Use of a random policy"
   ]
  },
  {
   "cell_type": "markdown",
   "metadata": {},
   "source": [
    "Q2. Implement a policy that chose an action randomly\n",
    "\n",
    "Q3. Implement a policy that chose always the action \"go right\""
   ]
  },
  {
   "cell_type": "code",
   "execution_count": 2,
   "metadata": {},
   "outputs": [],
   "source": [
    "import random\n",
    "\n",
    "def RandomPolicy(state):\n",
    "    return env.action_space.sample()\n",
    "\n",
    "\n",
    "def GoRightPolicy(state):\n",
    "    return env.step(3)\n"
   ]
  },
  {
   "cell_type": "code",
   "execution_count": 3,
   "metadata": {},
   "outputs": [
    {
     "data": {
      "image/png": "[encoded data removed]",
      "text/plain": [
       "<Figure size 432x288 with 1 Axes>"
      ]
     },
     "metadata": {
      "needs_background": "light"
     },
     "output_type": "display_data"
    }
   ],
   "source": [
    "# Verify your policies with this cell\n",
    "def SimulateTrajectory(T,Pi,s0):\n",
    "    \"\"\"return a vector of T successive states and a vector of T successive rewards\"\"\"\n",
    "    Rewards = np.zeros(T+1)\n",
    "    States = np.zeros(T+1)\n",
    "    env= gym.make('CliffWalking-v0')\n",
    "    state = env.reset()\n",
    "    for t in range(T):\n",
    "        States[t]=state\n",
    "        action=Pi(state)\n",
    "        state,rew,x,y=env.step(action)\n",
    "        Rewards[t]=rew\n",
    "    return States,Rewards\n",
    "\n",
    "gamma = 0.9 # discount factor \n",
    "s1 = 36 # initial state\n",
    "T = int(np.log(1/(0.001*(1-gamma)))/np.log(1/gamma)) # truncation of the infinite sum\n",
    "States1,Rewards1 = SimulateTrajectory(T, RandomPolicy,s1)\n",
    "\n",
    "# plot cumulative discounted reward (on a single run):\n",
    "plt.figure()\n",
    "plt.plot(np.cumsum(Rewards1*np.array([gamma**t for t in range(T+1)])),label=\"random policy\")\n",
    "\n",
    "plt.xlabel('steps')\n",
    "plt.ylabel('cumulated discounted reward')\n",
    "plt.legend()\n",
    "plt.show()\n"
   ]
  },
  {
   "cell_type": "markdown",
   "metadata": {},
   "source": [
    "Q4. Implement the optimum policy and display the trajectory from the initial state."
   ]
  },
  {
   "cell_type": "markdown",
   "metadata": {},
   "source": [
    "## Dynamic Programming"
   ]
  },
  {
   "cell_type": "markdown",
   "metadata": {},
   "source": [
    "In order to use our dynamic programming algorithms, we need to know the parameters of the MDP. \n",
    "Here we know the reward and transition model. "
   ]
  },
  {
   "cell_type": "markdown",
   "metadata": {},
   "source": [
    "Q5. Each time step incurs -1 reward, and stepping into the cliff incurs -100 reward.\n",
    "Implement  the reward r(s,a)\n",
    "\n",
    "Q6. Implement the Transition model p(s' | s,a) "
   ]
  },
  {
   "cell_type": "code",
   "execution_count": 4,
   "metadata": {},
   "outputs": [],
   "source": [
    "# Can be useful \n",
    "def number_to_grid(x):\n",
    "    return(x//12,x%12)\n",
    "\n",
    "def grid_to_number(x):\n",
    "    return(x[0]*12+x[1])\n",
    "\n",
    "# MDP parameters\n",
    "nb_states =48\n",
    "nb_actions = 4\n",
    "P = np.zeros((nb_states,nb_actions,nb_states)) # P[s,a,s'] = p(s' | s,a) \n",
    "r = np.zeros((nb_states,nb_actions)) # r[s,a] = average reward received in state s when playing action a\n",
    "\n",
    "for state in range(nb_states):\n",
    "    for action in range(nb_actions):\n",
    "        r[state][action] = env.env.P[state][action][0][2]\n",
    "        \n",
    "        new_state = env.env.P[state][action][0][1]\n",
    "        P[state][action][new_state] = env.env.P[state][action][0][0]\n"
   ]
  },
  {
   "cell_type": "code",
   "execution_count": 5,
   "metadata": {},
   "outputs": [
    {
     "name": "stdout",
     "output_type": "stream",
     "text": [
      "Action taken: right\n",
      "Transition model: {'prob': 1.0}\n",
      "Next state: 36\n",
      "Reward recieved: -100\n",
      "Terminal state: False\n"
     ]
    }
   ],
   "source": [
    "#TO IMPLEMENT\n",
    "action = [\"up\", \"right\", \"down\", \"left\"]\n",
    "random_action = random.randint(0, 3)\n",
    "env.reset()\n",
    "print (\"Action taken:\", action[random_action])\n",
    "next_state, reward, is_terminal, transition_prob = env.step(random_action)\n",
    "env.reset()\n",
    "print (\"Transition model:\", transition_prob)\n",
    "print (\"Next state:\", next_state)\n",
    "print (\"Reward recieved:\", reward)\n",
    "print (\"Terminal state:\", is_terminal)"
   ]
  },
  {
   "cell_type": "markdown",
   "metadata": {},
   "source": [
    "### Policy Iteration"
   ]
  },
  {
   "cell_type": "markdown",
   "metadata": {},
   "source": [
    "In this section, we will consider policies as a vector. A policy  is represented as a vector pi[s] with s a state. "
   ]
  },
  {
   "cell_type": "code",
   "execution_count": 6,
   "metadata": {},
   "outputs": [],
   "source": [
    "example_pi =  np.random.choice([0,1,2,3], nb_states)  # An example of random  policy"
   ]
  },
  {
   "cell_type": "code",
   "execution_count": 7,
   "metadata": {},
   "outputs": [
    {
     "data": {
      "text/plain": [
       "0"
      ]
     },
     "execution_count": 7,
     "metadata": {},
     "output_type": "execute_result"
    }
   ],
   "source": [
    "state = 13\n",
    "example_pi[state]# Gives you the action from state 13"
   ]
  },
  {
   "cell_type": "markdown",
   "metadata": {},
   "source": [
    "Q.7 Using the Bellman equations, build the evaluation of a policy. We consider convergence with $\\epsilon = 0.01$ or if we performed a maximum of 10000 iterations."
   ]
  },
  {
   "cell_type": "code",
   "execution_count": 8,
   "metadata": {},
   "outputs": [],
   "source": [
    "def policy_evaluation(policy):\n",
    "    V = np.zeros(nb_states) # intialize V to 0's\n",
    "    epsilon =0.1\n",
    "    max_iter = 10000\n",
    "    \n",
    "    # TO COMPLETE\n",
    "    for _ in range(max_iter):\n",
    "        prev_V = np.copy(V)\n",
    "        for s in range(env.env.nS):  \n",
    "            policy_a = policy[s]\n",
    "            for p, s_, r, _ in env.env.P[s][policy_a]:\n",
    "                V[s] = sum([p * (r + gamma * prev_V[s_])])\n",
    "  \n",
    "        \"\"\"When the sum of the difference between the v value of each state calculated this time and the previous calculation is less than a number, \n",
    "        we consider that the behavior of estimating the v value under the policy policy has been completed\"\"\"\n",
    "        if np.sum(np.abs(prev_V - V)) < epsilon: \n",
    "            break\n",
    "    return V\n",
    "\n"
   ]
  },
  {
   "cell_type": "markdown",
   "metadata": {},
   "source": [
    "Q.8 Build a policy improvement function for both Value and Policy evaluation"
   ]
  },
  {
   "cell_type": "code",
   "execution_count": 9,
   "metadata": {},
   "outputs": [],
   "source": [
    "def policy_improve(V, policy):\n",
    "    \n",
    "    for s in range(env.env.nS):\n",
    "        \"\"\"Calculate all q_sa, and then for each state S, \n",
    "        choose the a that maximizes the value of q_sa\"\"\"\n",
    "        q_sa = np.zeros(env.env.nA)\n",
    "        for a in range(env.env.nA):\n",
    "            q_sa[a] = sum([p * (r + gamma * V[s_]) for p, s_, r, _ in env.env.P[s][a]])\n",
    "\n",
    "        policy[s] = np.argmax(q_sa)\n",
    "        \n",
    "    return policy\n",
    "    # TO IMPLEMENT"
   ]
  },
  {
   "cell_type": "markdown",
   "metadata": {},
   "source": [
    "Q.9 Using the two preceding functions, build the Policy Iteration algorithm"
   ]
  },
  {
   "cell_type": "code",
   "execution_count": 10,
   "metadata": {},
   "outputs": [],
   "source": [
    "def policy_iteration(state):\n",
    "    policy = np.random.choice(env.env.nA, size=(env.env.nS))\n",
    "    max_iteration = 10000\n",
    "    for i in range(max_iteration):\n",
    "        V = policy_evaluation(policy)\n",
    "        new_policy = policy_improve(V, policy)\n",
    "        if np.all(policy == new_policy):\n",
    "            print(\"Policy Iteration converged at step %i\" % (i + 1))\n",
    "            break\n",
    "        policy = new_policy\n",
    "\n",
    "    return policy\n"
   ]
  },
  {
   "cell_type": "markdown",
   "metadata": {},
   "source": [
    "Q.10 Test your policy using the SimulateTrajectory() function"
   ]
  },
  {
   "cell_type": "code",
   "execution_count": 11,
   "metadata": {},
   "outputs": [
    {
     "name": "stdout",
     "output_type": "stream",
     "text": [
      "Policy Iteration converged at step 1\n",
      "Policy Iteration converged at step 1\n",
      "Policy Iteration converged at step 1\n",
      "Policy Iteration converged at step 1\n",
      "Policy Iteration converged at step 1\n",
      "Policy Iteration converged at step 1\n",
      "Policy Iteration converged at step 1\n",
      "Policy Iteration converged at step 1\n",
      "Policy Iteration converged at step 1\n",
      "Policy Iteration converged at step 1\n",
      "Policy Iteration converged at step 1\n",
      "Policy Iteration converged at step 1\n",
      "Policy Iteration converged at step 1\n",
      "Policy Iteration converged at step 1\n",
      "Policy Iteration converged at step 1\n",
      "Policy Iteration converged at step 1\n",
      "Policy Iteration converged at step 1\n",
      "Policy Iteration converged at step 1\n",
      "Policy Iteration converged at step 1\n",
      "Policy Iteration converged at step 1\n",
      "Policy Iteration converged at step 1\n",
      "Policy Iteration converged at step 1\n",
      "Policy Iteration converged at step 1\n",
      "Policy Iteration converged at step 1\n",
      "Policy Iteration converged at step 1\n",
      "Policy Iteration converged at step 1\n",
      "Policy Iteration converged at step 1\n",
      "Policy Iteration converged at step 1\n",
      "Policy Iteration converged at step 1\n",
      "Policy Iteration converged at step 1\n",
      "Policy Iteration converged at step 1\n",
      "Policy Iteration converged at step 1\n",
      "Policy Iteration converged at step 1\n",
      "Policy Iteration converged at step 1\n",
      "Policy Iteration converged at step 1\n",
      "Policy Iteration converged at step 1\n",
      "Policy Iteration converged at step 1\n",
      "Policy Iteration converged at step 1\n",
      "Policy Iteration converged at step 1\n",
      "Policy Iteration converged at step 1\n",
      "Policy Iteration converged at step 1\n",
      "Policy Iteration converged at step 1\n",
      "Policy Iteration converged at step 1\n",
      "Policy Iteration converged at step 1\n",
      "Policy Iteration converged at step 1\n",
      "Policy Iteration converged at step 1\n",
      "Policy Iteration converged at step 1\n",
      "Policy Iteration converged at step 1\n",
      "Policy Iteration converged at step 1\n",
      "Policy Iteration converged at step 1\n",
      "Policy Iteration converged at step 1\n",
      "Policy Iteration converged at step 1\n",
      "Policy Iteration converged at step 1\n",
      "Policy Iteration converged at step 1\n",
      "Policy Iteration converged at step 1\n",
      "Policy Iteration converged at step 1\n",
      "Policy Iteration converged at step 1\n",
      "Policy Iteration converged at step 1\n",
      "Policy Iteration converged at step 1\n",
      "Policy Iteration converged at step 1\n",
      "Policy Iteration converged at step 1\n",
      "Policy Iteration converged at step 1\n",
      "Policy Iteration converged at step 1\n",
      "Policy Iteration converged at step 1\n",
      "Policy Iteration converged at step 1\n",
      "Policy Iteration converged at step 1\n",
      "Policy Iteration converged at step 1\n",
      "Policy Iteration converged at step 1\n",
      "Policy Iteration converged at step 1\n",
      "Policy Iteration converged at step 1\n",
      "Policy Iteration converged at step 1\n",
      "Policy Iteration converged at step 1\n",
      "Policy Iteration converged at step 1\n",
      "Policy Iteration converged at step 1\n",
      "Policy Iteration converged at step 1\n",
      "Policy Iteration converged at step 1\n",
      "Policy Iteration converged at step 1\n",
      "Policy Iteration converged at step 1\n",
      "Policy Iteration converged at step 1\n",
      "Policy Iteration converged at step 1\n",
      "Policy Iteration converged at step 1\n",
      "Policy Iteration converged at step 1\n",
      "Policy Iteration converged at step 1\n",
      "Policy Iteration converged at step 1\n",
      "Policy Iteration converged at step 1\n",
      "Policy Iteration converged at step 1\n",
      "Policy Iteration converged at step 1\n"
     ]
    },
    {
     "data": {
      "image/png": "[encoded data removed]",
      "text/plain": [
       "<Figure size 432x288 with 1 Axes>"
      ]
     },
     "metadata": {
      "needs_background": "light"
     },
     "output_type": "display_data"
    }
   ],
   "source": [
    "# Verify your policies with this cell\n",
    "def SimulateTrajectory(T,Pi,s0):\n",
    "    \"\"\"return a vector of T successive states and a vector of T successive rewards\"\"\"\n",
    "    Rewards = np.zeros(T+1)\n",
    "    States = np.zeros(T+1)\n",
    "    env= gym.make('CliffWalking-v0')\n",
    "    state = env.reset()\n",
    "    for t in range(T):\n",
    "        States[t]=state\n",
    "        action=Pi(state)[s0]\n",
    "        state,rew,x,y=env.step(action)\n",
    "        Rewards[t]=rew\n",
    "    return States,Rewards\n",
    "\n",
    "gamma = 0.9 # discount factor \n",
    "s1 = 36 # initial state\n",
    "T = int(np.log(1/(0.001*(1-gamma)))/np.log(1/gamma)) # truncation of the infinite sum\n",
    "States1,Rewards1 = SimulateTrajectory(T, policy_iteration, s1)\n",
    "\n",
    "# plot cumulative discounted reward (on a single run):\n",
    "plt.figure()\n",
    "plt.plot(np.cumsum(Rewards1*np.array([gamma**t for t in range(T+1)])),label=\"optimal policy\")\n",
    "\n",
    "plt.xlabel('steps')\n",
    "plt.ylabel('cumulated discounted reward')\n",
    "plt.legend()\n",
    "plt.show()\n"
   ]
  },
  {
   "cell_type": "markdown",
   "metadata": {},
   "source": [
    "(BONUS QUESTION) \n",
    "Try to build a similar Policy Evaluation algorithm with stochastic policies . Can it be useful ? Argument"
   ]
  },
  {
   "cell_type": "markdown",
   "metadata": {},
   "source": [
    "A stochastic policy  is represented as a vector pi[a,s] with s a state and a an action"
   ]
  },
  {
   "cell_type": "code",
   "execution_count": 12,
   "metadata": {},
   "outputs": [
    {
     "name": "stdout",
     "output_type": "stream",
     "text": [
      "[0.44400871 0.02353395 0.47747828 0.05497907]\n"
     ]
    }
   ],
   "source": [
    "example_pi_stochastic = np.random.rand( nb_states, nb_actions)  # An example of random stochastic policy\n",
    "example_pi_stochastic = example_pi_stochastic/example_pi_stochastic.sum(axis=1)[:,None] # Normalized to get pbty\n",
    "print(example_pi_stochastic[36])  # Here are the probability of chosing the indexed actions\n"
   ]
  },
  {
   "cell_type": "code",
   "execution_count": 13,
   "metadata": {},
   "outputs": [],
   "source": [
    "########First we will adapt the value evaluation to the stochastic policies\n",
    "def policy_evaluation_stochastic(policy, epsilon = 0.01, max_iter = 10000):\n",
    "    V = np.zeros(nb_states) # intialize V to 0's\n",
    "    \n",
    "    # TO COMPLETE : we're using the algorithm shown in the PDF files.\n",
    "    for _ in range(max_iter):\n",
    "        V = np.zeros(env.env.nS)\n",
    "        delta = 0 \n",
    "       \n",
    "        for state in range(env.env.nS):  \n",
    "            val = 0 \n",
    "            for action,act_prob in enumerate(policy[state]): \n",
    "                for prob,next_state,reward,____ in env.env.P[state][action]:  \n",
    "                    val += act_prob * prob * (reward + gamma * V[next_state])  \n",
    "            delta = max(delta, np.abs(val-V[state]))\n",
    "            V[state] = val\n",
    "        if delta < epsilon:  \n",
    "            break\n",
    "    return np.array(V)"
   ]
  },
  {
   "cell_type": "code",
   "execution_count": 14,
   "metadata": {},
   "outputs": [],
   "source": [
    "#####The equivalent of the improve version we had above, here we are doing the for all state par outside the loop\n",
    "def policy_improve_sto(state, V):\n",
    "    q_sa = np.zeros(env.env.nA)\n",
    "    for a in range(env.env.nA):\n",
    "        q_sa[a] = sum([p * (r + gamma * V[s_]) for p, s_, r, _ in env.env.P[s][a]])\n",
    "        \n",
    "    return q_sa"
   ]
  },
  {
   "cell_type": "code",
   "execution_count": 15,
   "metadata": {},
   "outputs": [],
   "source": [
    "def policy_iteration_sto(max_iteration = 10000):\n",
    "    policy = np.ones([env.env.nS, env.env.nA]) / env.env.nA\n",
    "    \n",
    "    for i in range(max_iteration):\n",
    "\n",
    "        V = policy_evaluation_stochastic(policy)\n",
    "        for s in range(env.env.nS):\n",
    "            chosen_action = np.argmax(policy[s])\n",
    "            q_sa = policy_improve_sto(state, V)\n",
    "            best_action = np.argmax(q_sa)\n",
    "            \n",
    "            if chosen_action != best_action :\n",
    "                policy[state] = np.eye(env.env.nA)[best_act]\n",
    "            else:\n",
    "                return policy, V\n",
    "\n",
    "    return policy, np.zeros(env.env.nS)"
   ]
  },
  {
   "cell_type": "markdown",
   "metadata": {},
   "source": [
    "### Value Iteration"
   ]
  },
  {
   "cell_type": "markdown",
   "metadata": {},
   "source": [
    "Q.11 Similarly to the Policy Iteration algorithm, build the Value Iteration Algorithm and test it."
   ]
  },
  {
   "cell_type": "code",
   "execution_count": 16,
   "metadata": {},
   "outputs": [],
   "source": [
    "def value_iteration(state):\n",
    "    \"\"\"\n",
    "    :param env:\n",
    "    :param gamma:\n",
    "    :return:\n",
    "    \"\"\"\n",
    "    V = np.zeros(env.env.nS)\n",
    "    max_iterations = 10000\n",
    "    epsilon =0.1\n",
    "    for i in range(max_iterations):\n",
    "        prev_V = np.copy(V)\n",
    "        for s in range(env.env.nS):\n",
    "            q_sa = [sum([p * (r + gamma * prev_V[s_]) for p, s_, r, _ in env.env.P[s][a]]) for a in range(env.env.nA)]\n",
    "            V[s] = max(q_sa)\n",
    "        if np.sum(np.fabs(prev_V - V)) < epsilon:\n",
    "            print(\"Value function converged at iteration %d\" % (i + 1))\n",
    "            break\n",
    "    init_policy = np.zeros(env.env.nS)\n",
    "    policy = policy_improve(V, init_policy)\n",
    "    return policy\n"
   ]
  },
  {
   "cell_type": "code",
   "execution_count": 17,
   "metadata": {},
   "outputs": [
    {
     "name": "stdout",
     "output_type": "stream",
     "text": [
      "Value function converged at iteration 60\n"
     ]
    },
    {
     "data": {
      "image/png": "[encoded data removed]",
      "text/plain": [
       "<Figure size 432x288 with 1 Axes>"
      ]
     },
     "metadata": {
      "needs_background": "light"
     },
     "output_type": "display_data"
    }
   ],
   "source": [
    "# Verify your policies with this cell\n",
    "def SimulateTrajectory(T,Pi,s0):\n",
    "    \"\"\"return a vector of T successive states and a vector of T successive rewards\"\"\"\n",
    "    Rewards = np.zeros(T+1)\n",
    "    States = np.zeros(T+1)\n",
    "    env= gym.make('CliffWalking-v0')\n",
    "    state = env.reset()\n",
    "    for t in range(T):\n",
    "        States[t]=state\n",
    "        action=Pi(state)\n",
    "        state,rew,x,y=env.step(action)\n",
    "        Rewards[t]=rew\n",
    "    return States,Rewards\n",
    "\n",
    "gamma = 0.9 # discount factor \n",
    "s1 = 36 # initial state\n",
    "policy_value_iteration = value_iteration(state)\n",
    "polic_v_i_f = lambda x : policy_value_iteration[x]\n",
    "\n",
    "T = int(np.log(1/(0.001*(1-gamma)))/np.log(1/gamma)) # truncation of the infinite sum\n",
    "States1,Rewards1 = SimulateTrajectory(T, polic_v_i_f, s1)\n",
    "\n",
    "# plot cumulative discounted reward (on a single run):\n",
    "plt.figure()\n",
    "plt.plot(np.cumsum(Rewards1*np.array([gamma**t for t in range(T+1)])),label=\"optimal policy with value_iteration\")\n",
    "\n",
    "plt.xlabel('steps')\n",
    "plt.ylabel('cumulated discounted reward')\n",
    "plt.legend()\n",
    "plt.show()"
   ]
  },
  {
   "cell_type": "markdown",
   "metadata": {},
   "source": [
    "### Q-Learning"
   ]
  },
  {
   "cell_type": "markdown",
   "metadata": {},
   "source": [
    "Now we don't have access to the Reward and Transitions table anymore ! We will have to explore to build our knowledge of the action-value Q(s,a) along the way."
   ]
  },
  {
   "cell_type": "markdown",
   "metadata": {},
   "source": [
    "Q.12 Give the Bellman Equation for Q."
   ]
  },
  {
   "cell_type": "markdown",
   "metadata": {},
   "source": [
    "$Q(s_t,a_t)$ $\\leftarrow$ $Q(s_t,a_t)$+ $\\alpha$ [$\\gamma$ $(S_{t+1})$+$\\gamma$ $maxQ(s_{t+1},a_{t+1})$]"
   ]
  },
  {
   "cell_type": "markdown",
   "metadata": {},
   "source": [
    "Q.13  Implement the Q-Learning algorithm. We will store action-value information in a table q[s,a]. \n",
    "\n",
    "You will need :\n",
    "- a function act() to act in the environement \n",
    "- a function update() to learn the optimal actions and improve your knowledge of q.\n",
    "- a function train() that use both precedent functions.\n"
   ]
  },
  {
   "cell_type": "code",
   "execution_count": 69,
   "metadata": {},
   "outputs": [],
   "source": [
    "q = np.zeros([nb_states, nb_actions])\n",
    "alpha = 0.1\n",
    "gamma = 0.6\n",
    "epsilon = 0.1\n",
    "\n",
    "def act(state): # TO COMPLETE\n",
    "    action = 0\n",
    "    if random.uniform(0, 1) < epsilon:\n",
    "        action = env.action_space.sample() # Explore action space\n",
    "    else:\n",
    "        action = np.argmax(q[state]) # Exploit learned values\n",
    "    return action\n",
    "\n",
    "def update(state,action,reward,state1,is_done):\n",
    "    if not is_done:\n",
    "        old_value = q[state, action]\n",
    "        next_max = np.max(q[state1])\n",
    "        \n",
    "        new_value = (1 - alpha) * old_value + alpha * (reward + gamma * next_max)\n",
    "        q[state, action] = new_value\n",
    "    else:\n",
    "        return\n",
    "    \n",
    "\n",
    "def train(env,n_iter):\n",
    "    state = 36\n",
    "    for _ in range(n_iter):\n",
    "        action = act(state)\n",
    "        state1, reward, is_done, _ = env.step(action)\n",
    "        update(state,action,reward,state1,is_done)\n",
    "        state = state1\n",
    "\n",
    "train(env, 100000)"
   ]
  },
  {
   "cell_type": "markdown",
   "metadata": {},
   "source": [
    "Q.14 Visualize the obtained policy after training . Is it optimal ? "
   ]
  },
  {
   "cell_type": "code",
   "execution_count": 70,
   "metadata": {},
   "outputs": [
    {
     "data": {
      "text/plain": [
       "Text(0, 0.5, 'max q_value for each state')"
      ]
     },
     "execution_count": 70,
     "metadata": {},
     "output_type": "execute_result"
    },
    {
     "data": {
      "image/png": "[encoded data removed]",
      "text/plain": [
       "<Figure size 432x288 with 1 Axes>"
      ]
     },
     "metadata": {
      "needs_background": "light"
     },
     "output_type": "display_data"
    }
   ],
   "source": [
    "q_max_list = []\n",
    "policy_q = []\n",
    "state_q = []\n",
    "for i, val in enumerate(q):\n",
    "    q_max_list.append(np.max(val))\n",
    "    policy_q.append(np.argmax(val))\n",
    "    state_q.append(i)\n",
    "\n",
    "plt.plot(q_max_list)\n",
    "plt.xlabel(\"state\")\n",
    "plt.ylabel(\"max q_value for each state\")"
   ]
  },
  {
   "cell_type": "code",
   "execution_count": 71,
   "metadata": {},
   "outputs": [
    {
     "data": {
      "image/png": "[encoded data removed]",
      "text/plain": [
       "<Figure size 432x288 with 1 Axes>"
      ]
     },
     "metadata": {
      "needs_background": "light"
     },
     "output_type": "display_data"
    }
   ],
   "source": [
    "def obtained_policy(state):\n",
    "    return policy_q[state]\n",
    "\n",
    "# Verify your policies with this cell\n",
    "def SimulateTrajectory(T,Pi,s0):\n",
    "    \"\"\"return a vector of T successive states and a vector of T successive rewards\"\"\"\n",
    "    Rewards = np.zeros(T+1)\n",
    "    States = np.zeros(T+1)\n",
    "    env= gym.make('CliffWalking-v0')\n",
    "    state = env.reset()\n",
    "    for t in range(T):\n",
    "        States[t]=state\n",
    "        action=Pi(state)\n",
    "        state,rew,x,y=env.step(action)\n",
    "        Rewards[t]=rew\n",
    "    return States,Rewards\n",
    "\n",
    "gamma = 0.9 # discount factor \n",
    "s1 = 36 # initial state\n",
    "\n",
    "T = int(np.log(1/(0.001*(1-gamma)))/np.log(1/gamma)) # truncation of the infinite sum\n",
    "States1,Rewards1 = SimulateTrajectory(T, obtained_policy, s1)\n",
    "\n",
    "# plot cumulative discounted reward (on a single run):\n",
    "plt.figure()\n",
    "plt.plot(np.cumsum(Rewards1*np.array([gamma**t for t in range(T+1)])),label=\"policy with q_learning\")\n",
    "\n",
    "plt.xlabel('steps')\n",
    "plt.ylabel('cumulated discounted reward')\n",
    "plt.legend()\n",
    "plt.show()"
   ]
  },
  {
   "cell_type": "code",
   "execution_count": 72,
   "metadata": {},
   "outputs": [],
   "source": [
    "state_list = []\n",
    "frames = []\n",
    "for i, action in enumerate(policy_q):\n",
    "    next_state, reward, is_done, _ = env.step(action)\n",
    "    frames.append({\n",
    "        'frame': env.render(mode='ansi'),\n",
    "        'state': next_state,\n",
    "        'action': action,\n",
    "        'q_value': q_max_list[i]\n",
    "        }\n",
    "    )"
   ]
  },
  {
   "cell_type": "code",
   "execution_count": 73,
   "metadata": {},
   "outputs": [
    {
     "name": "stdout",
     "output_type": "stream",
     "text": [
      "o  o  o  o  o  o  o  o  o  o  o  x\n",
      "o  o  o  o  o  o  o  o  o  o  o  o\n",
      "o  o  o  o  o  o  o  o  o  o  o  o\n",
      "o  C  C  C  C  C  C  C  C  C  C  T\n",
      "\n",
      "\n",
      "Timestep: 48\n",
      "State: 11\n",
      "Action: 1\n",
      "q_value: 0.0\n"
     ]
    }
   ],
   "source": [
    "from IPython.display import clear_output\n",
    "from time import sleep\n",
    "    \n",
    "\n",
    "def print_frames(frames):\n",
    "    for i, frame in enumerate(frames):\n",
    "        clear_output(wait=True)\n",
    "        print(frame['frame'])\n",
    "        print(f\"Timestep: {i + 1}\")\n",
    "        print(f\"State: {frame['state']}\")\n",
    "        print(f\"Action: {frame['action']}\")\n",
    "        print(f\"q_value: {frame['q_value']}\")\n",
    "        sleep(.4)\n",
    "\n",
    "print_frames(frames)"
   ]
  }
 ],
 "metadata": {
  "kernelspec": {
   "display_name": "base",
   "language": "python",
   "name": "python3"
  },
  "language_info": {
   "codemirror_mode": {
    "name": "ipython",
    "version": 3
   },
   "file_extension": ".py",
   "mimetype": "text/x-python",
   "name": "python",
   "nbconvert_exporter": "python",
   "pygments_lexer": "ipython3",
   "version": "3.9.12"
  },
  "orig_nbformat": 4,
  "vscode": {
   "interpreter": {
    "hash": "1e5c6842fc39ac49b4102b6863c7493ee82b59579c358c406788e39adabcdc60"
   }
  }
 },
 "nbformat": 4,
 "nbformat_minor": 2
}
